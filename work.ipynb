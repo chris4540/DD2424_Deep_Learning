{
 "cells": [
  {
   "cell_type": "code",
   "execution_count": 2,
   "metadata": {},
   "outputs": [],
   "source": [
    "import pandas as pd\n",
    "import matplotlib.pyplot as plt\n",
    "import numpy as np"
   ]
  },
  {
   "cell_type": "code",
   "execution_count": 3,
   "metadata": {},
   "outputs": [],
   "source": [
    "df = pd.read_json(\"a2_ex4_fine_search.json\")"
   ]
  },
  {
   "cell_type": "code",
   "execution_count": 4,
   "metadata": {},
   "outputs": [],
   "source": [
    "df = df.drop(\"scores\", axis=\"columns\")\n",
    "df['log_lambda'] = np.log10(df['lambda_'])"
   ]
  },
  {
   "cell_type": "code",
   "execution_count": 8,
   "metadata": {},
   "outputs": [
    {
     "data": {
      "text/html": [
       "<div>\n",
       "<style scoped>\n",
       "    .dataframe tbody tr th:only-of-type {\n",
       "        vertical-align: middle;\n",
       "    }\n",
       "\n",
       "    .dataframe tbody tr th {\n",
       "        vertical-align: top;\n",
       "    }\n",
       "\n",
       "    .dataframe thead th {\n",
       "        text-align: right;\n",
       "    }\n",
       "</style>\n",
       "<table border=\"1\" class=\"dataframe\">\n",
       "  <thead>\n",
       "    <tr style=\"text-align: right;\">\n",
       "      <th></th>\n",
       "      <th>lambda_</th>\n",
       "      <th>mean_score</th>\n",
       "      <th>log_lambda</th>\n",
       "    </tr>\n",
       "  </thead>\n",
       "  <tbody>\n",
       "    <tr>\n",
       "      <th>15</th>\n",
       "      <td>0.000142</td>\n",
       "      <td>0.519533</td>\n",
       "      <td>-3.848366</td>\n",
       "    </tr>\n",
       "    <tr>\n",
       "      <th>4</th>\n",
       "      <td>0.000182</td>\n",
       "      <td>0.518667</td>\n",
       "      <td>-3.740028</td>\n",
       "    </tr>\n",
       "    <tr>\n",
       "      <th>1</th>\n",
       "      <td>0.000062</td>\n",
       "      <td>0.517467</td>\n",
       "      <td>-4.208146</td>\n",
       "    </tr>\n",
       "    <tr>\n",
       "      <th>12</th>\n",
       "      <td>0.000027</td>\n",
       "      <td>0.517133</td>\n",
       "      <td>-4.562015</td>\n",
       "    </tr>\n",
       "    <tr>\n",
       "      <th>14</th>\n",
       "      <td>0.000167</td>\n",
       "      <td>0.517000</td>\n",
       "      <td>-3.777343</td>\n",
       "    </tr>\n",
       "    <tr>\n",
       "      <th>2</th>\n",
       "      <td>0.000246</td>\n",
       "      <td>0.516333</td>\n",
       "      <td>-3.609886</td>\n",
       "    </tr>\n",
       "    <tr>\n",
       "      <th>0</th>\n",
       "      <td>0.000053</td>\n",
       "      <td>0.515867</td>\n",
       "      <td>-4.278656</td>\n",
       "    </tr>\n",
       "    <tr>\n",
       "      <th>6</th>\n",
       "      <td>0.000018</td>\n",
       "      <td>0.515200</td>\n",
       "      <td>-4.755479</td>\n",
       "    </tr>\n",
       "    <tr>\n",
       "      <th>8</th>\n",
       "      <td>0.000067</td>\n",
       "      <td>0.514800</td>\n",
       "      <td>-4.172406</td>\n",
       "    </tr>\n",
       "    <tr>\n",
       "      <th>9</th>\n",
       "      <td>0.000026</td>\n",
       "      <td>0.514133</td>\n",
       "      <td>-4.587881</td>\n",
       "    </tr>\n",
       "    <tr>\n",
       "      <th>7</th>\n",
       "      <td>0.000018</td>\n",
       "      <td>0.514067</td>\n",
       "      <td>-4.753519</td>\n",
       "    </tr>\n",
       "    <tr>\n",
       "      <th>3</th>\n",
       "      <td>0.000042</td>\n",
       "      <td>0.513800</td>\n",
       "      <td>-4.376685</td>\n",
       "    </tr>\n",
       "    <tr>\n",
       "      <th>10</th>\n",
       "      <td>0.000051</td>\n",
       "      <td>0.513600</td>\n",
       "      <td>-4.295730</td>\n",
       "    </tr>\n",
       "    <tr>\n",
       "      <th>5</th>\n",
       "      <td>0.000021</td>\n",
       "      <td>0.513067</td>\n",
       "      <td>-4.671224</td>\n",
       "    </tr>\n",
       "    <tr>\n",
       "      <th>13</th>\n",
       "      <td>0.000041</td>\n",
       "      <td>0.513000</td>\n",
       "      <td>-4.384489</td>\n",
       "    </tr>\n",
       "    <tr>\n",
       "      <th>11</th>\n",
       "      <td>0.000014</td>\n",
       "      <td>0.510333</td>\n",
       "      <td>-4.851958</td>\n",
       "    </tr>\n",
       "  </tbody>\n",
       "</table>\n",
       "</div>"
      ],
      "text/plain": [
       "     lambda_  mean_score  log_lambda\n",
       "15  0.000142    0.519533   -3.848366\n",
       "4   0.000182    0.518667   -3.740028\n",
       "1   0.000062    0.517467   -4.208146\n",
       "12  0.000027    0.517133   -4.562015\n",
       "14  0.000167    0.517000   -3.777343\n",
       "2   0.000246    0.516333   -3.609886\n",
       "0   0.000053    0.515867   -4.278656\n",
       "6   0.000018    0.515200   -4.755479\n",
       "8   0.000067    0.514800   -4.172406\n",
       "9   0.000026    0.514133   -4.587881\n",
       "7   0.000018    0.514067   -4.753519\n",
       "3   0.000042    0.513800   -4.376685\n",
       "10  0.000051    0.513600   -4.295730\n",
       "5   0.000021    0.513067   -4.671224\n",
       "13  0.000041    0.513000   -4.384489\n",
       "11  0.000014    0.510333   -4.851958"
      ]
     },
     "execution_count": 8,
     "metadata": {},
     "output_type": "execute_result"
    }
   ],
   "source": [
    "df"
   ]
  },
  {
   "cell_type": "code",
   "execution_count": 5,
   "metadata": {},
   "outputs": [
    {
     "data": {
      "text/plain": [
       "<matplotlib.axes._subplots.AxesSubplot at 0x251bb1c1a58>"
      ]
     },
     "execution_count": 5,
     "metadata": {},
     "output_type": "execute_result"
    },
    {
     "data": {
      "image/png": "[encoded data removed]",
      "text/plain": [
       "<Figure size 432x288 with 1 Axes>"
      ]
     },
     "metadata": {
      "needs_background": "light"
     },
     "output_type": "display_data"
    }
   ],
   "source": [
    "df.plot(x=\"lambda_\", y=\"mean_score\", kind=\"scatter\", logx=True)"
   ]
  },
  {
   "cell_type": "code",
   "execution_count": 6,
   "metadata": {},
   "outputs": [],
   "source": [
    "df = df.sort_values(by=['mean_score'], ascending=False)"
   ]
  },
  {
   "cell_type": "code",
   "execution_count": 7,
   "metadata": {},
   "outputs": [
    {
     "name": "stdout",
     "output_type": "stream",
     "text": [
      "     lambda_  mean_score  log_lambda\n",
      "15  0.000142    0.519533   -3.848366\n",
      "4   0.000182    0.518667   -3.740028\n",
      "1   0.000062    0.517467   -4.208146\n"
     ]
    }
   ],
   "source": [
    "print(df.iloc[:3])"
   ]
  },
  {
   "cell_type": "code",
   "execution_count": null,
   "metadata": {},
   "outputs": [],
   "source": []
  },
  {
   "cell_type": "code",
   "execution_count": null,
   "metadata": {},
   "outputs": [],
   "source": []
  }
 ],
 "metadata": {
  "kernelspec": {
   "display_name": "Python 3",
   "language": "python",
   "name": "python3"
  },
  "language_info": {
   "codemirror_mode": {
    "name": "ipython",
    "version": 3
   },
   "file_extension": ".py",
   "mimetype": "text/x-python",
   "name": "python",
   "nbconvert_exporter": "python",
   "pygments_lexer": "ipython3",
   "version": "3.7.3"
  }
 },
 "nbformat": 4,
 "nbformat_minor": 2
}
