{
 "cells": [
  {
   "cell_type": "code",
   "execution_count": 1,
   "metadata": {},
   "outputs": [],
   "source": [
    "import matplotlib.pyplot as plt"
   ]
  },
  {
   "cell_type": "code",
   "execution_count": 2,
   "metadata": {},
   "outputs": [
    {
     "name": "stdout",
     "output_type": "stream",
     "text": [
      "-------- TRAINING PARAMS --------\n",
      "lambda_: 0.01\n",
      "n_epochs: 10\n",
      "n_batch: 100\n",
      "eta: 0.01\n",
      "decay: 1.0\n",
      "dtype: float32\n",
      "verbose: True\n",
      "wgt_init: xavier\n",
      "shuffle_per_epoch: False\n",
      "stop_overfit: False\n",
      "-------- TRAINING PARAMS --------\n",
      "Epoch 0: Iteration 100: train_loss = 2.436649; valid_loss = 2.514660; lrate = 0.019808\n",
      "Epoch 1: Iteration 200: train_loss = 2.187232; valid_loss = 2.337662; lrate = 0.039806\n",
      "Epoch 2: Iteration 300: train_loss = 2.031099; valid_loss = 2.227704; lrate = 0.059804\n",
      "Epoch 3: Iteration 400: train_loss = 1.910402; valid_loss = 2.136290; lrate = 0.079802\n",
      "Epoch 4: Iteration 500: train_loss = 1.839873; valid_loss = 2.084938; lrate = 0.099800\n",
      "Epoch 5: Iteration 600: train_loss = 1.698592; valid_loss = 1.971217; lrate = 0.080202\n",
      "Epoch 6: Iteration 700: train_loss = 1.618817; valid_loss = 1.923967; lrate = 0.060204\n",
      "Epoch 7: Iteration 800: train_loss = 1.546073; valid_loss = 1.878062; lrate = 0.040206\n",
      "Epoch 8: Iteration 900: train_loss = 1.484703; valid_loss = 1.838097; lrate = 0.020208\n",
      "Epoch 9: Iteration 1000: train_loss = 1.449746; valid_loss = 1.815028; lrate = 0.000210\n",
      "Total used time =  2.626500129699707\n",
      "Accuracy: 0.4607\n"
     ]
    }
   ],
   "source": [
    "%run run_2l_ann.py"
   ]
  },
  {
   "cell_type": "code",
   "execution_count": 4,
   "metadata": {
    "scrolled": true
   },
   "outputs": [
    {
     "data": {
      "image/png": "[encoded data removed]",
      "text/plain": [
       "<Figure size 432x288 with 1 Axes>"
      ]
     },
     "metadata": {
      "needs_background": "light"
     },
     "output_type": "display_data"
    }
   ],
   "source": [
    "x = [0, 100, 200, 300, 400, 500, 600, 700, 800, 900, 1000]\n",
    "plt.plot(x, ann.valid_costs, label='validation loss')\n",
    "plt.plot(x, ann.train_costs, label='training loss')\n",
    "# plt.ylim(2, 4)\n",
    "plt.show()"
   ]
  },
  {
   "cell_type": "code",
   "execution_count": null,
   "metadata": {},
   "outputs": [],
   "source": []
  },
  {
   "cell_type": "code",
   "execution_count": null,
   "metadata": {},
   "outputs": [],
   "source": []
  }
 ],
 "metadata": {
  "kernelspec": {
   "display_name": "Python 3",
   "language": "python",
   "name": "python3"
  },
  "language_info": {
   "codemirror_mode": {
    "name": "ipython",
    "version": 3
   },
   "file_extension": ".py",
   "mimetype": "text/x-python",
   "name": "python",
   "nbconvert_exporter": "python",
   "pygments_lexer": "ipython3",
   "version": "3.7.3"
  }
 },
 "nbformat": 4,
 "nbformat_minor": 2
}
