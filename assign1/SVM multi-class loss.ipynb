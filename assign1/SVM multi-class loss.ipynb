{
 "cells": [
  {
   "cell_type": "markdown",
   "metadata": {},
   "source": [
    "https://mlxai.github.io/2017/01/06/vectorized-implementation-of-svm-loss-and-gradient-update.html"
   ]
  },
  {
   "cell_type": "code",
   "execution_count": 79,
   "metadata": {},
   "outputs": [],
   "source": [
    "import numpy as np\n",
    "k = 3\n",
    "d = 4000\n",
    "n = 5\n",
    "W_mat = np.random.randn(k ,d)\n",
    "X_mat = np.random.randn(d ,n) * np.random.randint(2)\n",
    "b_vec = np.random.randn(k ,1)\n",
    "Y_mat = np.eye(k)[np.random.choice(k, n)].T\n",
    "lambda_ = 0.00\n"
   ]
  },
  {
   "cell_type": "code",
   "execution_count": 99,
   "metadata": {},
   "outputs": [],
   "source": [
    "def compute_cost(X_mat, Y_mat, W_mat, b_vec, lambda_):\n",
    "    \"\"\"\n",
    "    \\sum_{i!=y}[max(0, \\vec{s} - s_y + 1)]\n",
    "    \"\"\"    \n",
    "    n_data = X_mat.shape[1]\n",
    "    s_mat = W_mat.dot(X_mat) + b_vec\n",
    "    s_y_vec = np.sum(s_mat * Y_mat, axis=0) # shape = (ndata,)\n",
    "    hinge_mat = np.maximum(s_mat - s_y_vec + 1, 0)\n",
    "    \n",
    "    ret = (np.sum(hinge_mat) - n_data) / n_data + lambda_*np.sum(W_mat**2)\n",
    "    \n",
    "    return ret\n",
    "    "
   ]
  },
  {
   "cell_type": "code",
   "execution_count": 100,
   "metadata": {},
   "outputs": [],
   "source": [
    "tmp = compute_cost(X_mat, Y_mat, W_mat, b_vec, lambda_)"
   ]
  },
  {
   "cell_type": "code",
   "execution_count": 101,
   "metadata": {},
   "outputs": [
    {
     "name": "stdout",
     "output_type": "stream",
     "text": [
      "63.49153938318127\n"
     ]
    }
   ],
   "source": [
    "print(tmp)"
   ]
  },
  {
   "cell_type": "code",
   "execution_count": null,
   "metadata": {},
   "outputs": [],
   "source": []
  }
 ],
 "metadata": {
  "kernelspec": {
   "display_name": "Python 3",
   "language": "python",
   "name": "python3"
  },
  "language_info": {
   "codemirror_mode": {
    "name": "ipython",
    "version": 3
   },
   "file_extension": ".py",
   "mimetype": "text/x-python",
   "name": "python",
   "nbconvert_exporter": "python",
   "pygments_lexer": "ipython3",
   "version": "3.7.1"
  }
 },
 "nbformat": 4,
 "nbformat_minor": 2
}
