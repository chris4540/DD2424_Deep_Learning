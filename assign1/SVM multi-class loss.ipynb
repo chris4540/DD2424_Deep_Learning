{
 "cells": [
  {
   "cell_type": "markdown",
   "metadata": {},
   "source": [
    "https://mlxai.github.io/2017/01/06/vectorized-implementation-of-svm-loss-and-gradient-update.html"
   ]
  },
  {
   "cell_type": "code",
   "execution_count": 127,
   "metadata": {},
   "outputs": [],
   "source": [
    "import numpy as np\n",
    "k = 3\n",
    "d = 4000\n",
    "n = 5\n",
    "W_mat = np.random.randn(k ,d)\n",
    "X_mat = np.random.randn(d ,n) * 0.5\n",
    "b_vec = np.random.randn(k ,1)\n",
    "y_vec = np.random.choice(k, n)\n",
    "Y_mat = np.eye(k)[y_vec].T\n",
    "lambda_ = 0.00\n"
   ]
  },
  {
   "cell_type": "code",
   "execution_count": 128,
   "metadata": {},
   "outputs": [],
   "source": [
    "\n",
    "def compute_cost(X_mat, Y_mat, W_mat, b_vec, lambda_):\n",
    "    \"\"\"\n",
    "    \\sum_{i!=y}[max(0, \\vec{s} - s_y + 1)]\n",
    "    \"\"\"\n",
    "    n_data = X_mat.shape[1]\n",
    "    s_mat = W_mat.dot(X_mat) + b_vec\n",
    "    s_y_vec = np.sum(s_mat * Y_mat, axis=0) # shape = (ndata,)\n",
    "    hinge_mat = np.maximum(s_mat - s_y_vec + 1, 0)\n",
    "\n",
    "    # we summed n_data extra ones. Therefore,\n",
    "    # (np.sum(hinge_mat) - n_data) / ndata\n",
    "    ret = (np.sum(hinge_mat)/n_data - 1) + 0.5*lambda_*np.sum(W_mat**2)\n",
    "    return ret\n",
    "\n",
    "# def svm_loss_naive(W, X, y, reg):\n",
    "#     num_classes = W.shape[1]\n",
    "#     num_train = X.shape[0]\n",
    "#     loss = 0.0\n",
    "\n",
    "#     for i in range(num_train):\n",
    "#         scores = X[i].dot(W)\n",
    "#         correct_class_score = scores[y[i]]\n",
    "#         for j in range(num_classes):\n",
    "#             if j == y[i]:\n",
    "#                 continue\n",
    "#             margin = scores[j] - correct_class_score + 1 # note delta = 1\n",
    "#             if margin > 0:\n",
    "#                 loss += margin\n",
    "#     loss /= num_train # mean\n",
    "#     loss += 0.5 * reg * np.sum(W * W) # l2 regularization\n",
    "#     return loss\n",
    "\n",
    "def compute_gradients(X_mat, Y_mat, W_mat, b_vec, lambda_):\n",
    "    n_data = X_mat.shape[1]\n",
    "    #\n",
    "    s_mat = W_mat.dot(X_mat) + b_vec\n",
    "    s_y_vec = np.sum(s_mat * Y_mat, axis=0) # shape = (ndata,)\n",
    "\n",
    "    # ------------------------\n",
    "    # start making g_mat\n",
    "    # ------------------------\n",
    "    # hinge_mat = np.maximum(s_mat - s_y_vec + 1, 0)\n",
    "    # g_mat = hinge_mat.copy()  # but we never use hinge_mat again\n",
    "    g_mat = np.maximum(s_mat - s_y_vec + 1, 0)\n",
    "    # for non correct classes\n",
    "    g_mat[g_mat > 0] = 1\n",
    "    # for the correct classes\n",
    "    g_mat[Y_mat == 1] = 0\n",
    "    # compute the gradient of the correct classes\n",
    "    crt_cls_grad = -np.sum(g_mat, axis=0)\n",
    "    g_mat += Y_mat * crt_cls_grad\n",
    "\n",
    "    # build the returns\n",
    "    grad_b = np.mean(g_mat, axis=1)[:, np.newaxis]\n",
    "    grad_W = g_mat.dot(X_mat.T) / n_data\n",
    "    grad_W += lambda_ * W_mat\n",
    "    return (grad_W, grad_b)\n",
    "\n",
    "def compute_grad_fwd_diff(X_mat, Y_mat, W_mat, b_vec, lambda_):\n",
    "    \"\"\"\n",
    "    Translated from matlab version of ComputeGradsNum\n",
    "    \"\"\"\n",
    "    h = 1e-6\n",
    "    h_inv = 1.0 / h\n",
    "    nclass = Y_mat.shape[0]\n",
    "    ndim = X_mat.shape[0]\n",
    "    grad_W = np.zeros(W_mat.shape)\n",
    "    grad_b = np.zeros((nclass, 1))\n",
    "\n",
    "    cost = compute_cost(X_mat, Y_mat, W_mat, b_vec, lambda_)\n",
    "\n",
    "    for i in range(nclass):\n",
    "        b_old = b_vec[i, 0]\n",
    "\n",
    "        b_vec[i, 0] = b_old + h\n",
    "        new_cost = compute_cost(X_mat, Y_mat, W_mat, b_vec, lambda_)\n",
    "        grad_b[i, 0] = (new_cost - cost) * h_inv\n",
    "\n",
    "        b_vec[i, 0] = b_old\n",
    "\n",
    "    for idx in np.ndindex(W_mat.shape):\n",
    "        w_old = W_mat[idx]\n",
    "\n",
    "        W_mat[idx] = w_old + h\n",
    "        new_cost = compute_cost(X_mat, Y_mat, W_mat, b_vec, lambda_)\n",
    "        grad_W[idx] = (new_cost - cost) * h_inv\n",
    "\n",
    "        W_mat[idx] = w_old\n",
    "\n",
    "    return (grad_W, grad_b)\n",
    "def compute_grad_central_diff(X_mat, Y_mat, W_mat, b_vec, lambda_):\n",
    "    \"\"\"\n",
    "    Translated from matlab version of ComputeGradsNum\n",
    "    \"\"\"\n",
    "    h = 1e-6\n",
    "    h_inv = 1.0 / h\n",
    "    nclass = Y_mat.shape[0]\n",
    "    ndim = X_mat.shape[0]\n",
    "    grad_W = np.zeros(W_mat.shape)\n",
    "    grad_b = np.zeros((nclass, 1))\n",
    "\n",
    "    for i in range(nclass):\n",
    "        b_old = b_vec[i, 0]\n",
    "\n",
    "        b_vec[i, 0] = b_old + h\n",
    "        c1 = compute_cost(X_mat, Y_mat, W_mat, b_vec, lambda_)\n",
    "\n",
    "        b_vec[i, 0] = b_old - h\n",
    "        c2 = compute_cost(X_mat, Y_mat, W_mat, b_vec, lambda_)\n",
    "\n",
    "        grad_b[i, 0] = (c1 - c2) * h_inv * 0.5\n",
    "\n",
    "        b_vec[i, 0] = b_old\n",
    "\n",
    "    for idx in np.ndindex(W_mat.shape):\n",
    "        w_old = W_mat[idx]\n",
    "\n",
    "        W_mat[idx] = w_old + h\n",
    "        c1 = compute_cost(X_mat, Y_mat, W_mat, b_vec, lambda_)\n",
    "\n",
    "        W_mat[idx] = w_old - h\n",
    "        c2 = compute_cost(X_mat, Y_mat, W_mat, b_vec, lambda_)\n",
    "\n",
    "        grad_W[idx] = (c1 - c2) * h_inv * 0.5\n",
    "\n",
    "        W_mat[idx] = w_old\n",
    "\n",
    "    return (grad_W, grad_b)"
   ]
  },
  {
   "cell_type": "code",
   "execution_count": 129,
   "metadata": {},
   "outputs": [],
   "source": [
    "gW1, gb1 = compute_gradients(X_mat, Y_mat, W_mat, b_vec, lambda_)"
   ]
  },
  {
   "cell_type": "code",
   "execution_count": 130,
   "metadata": {},
   "outputs": [],
   "source": [
    "gW2, gb2 = compute_grad_fwd_diff(X_mat, Y_mat, W_mat, b_vec, lambda_)"
   ]
  },
  {
   "cell_type": "code",
   "execution_count": 131,
   "metadata": {},
   "outputs": [],
   "source": [
    "gW3, gb3 = compute_grad_central_diff(X_mat, Y_mat, W_mat, b_vec, lambda_)"
   ]
  },
  {
   "cell_type": "code",
   "execution_count": 133,
   "metadata": {},
   "outputs": [
    {
     "data": {
      "text/plain": [
       "array([[5.60862634e-10],\n",
       "       [1.87012572e-09],\n",
       "       [1.12172527e-09]])"
      ]
     },
     "execution_count": 133,
     "metadata": {},
     "output_type": "execute_result"
    }
   ],
   "source": [
    "gb1 - gb3"
   ]
  },
  {
   "cell_type": "code",
   "execution_count": 132,
   "metadata": {},
   "outputs": [
    {
     "data": {
      "text/plain": [
       "array([[2.33721947e-09],\n",
       "       [3.64648256e-09],\n",
       "       [4.67443895e-09]])"
      ]
     },
     "execution_count": 132,
     "metadata": {},
     "output_type": "execute_result"
    }
   ],
   "source": [
    "gb1 - gb2"
   ]
  },
  {
   "cell_type": "code",
   "execution_count": 134,
   "metadata": {},
   "outputs": [
    {
     "data": {
      "text/plain": [
       "array([[ 4.90691004e-09,  1.42817699e-09,  1.84259967e-09, ...,\n",
       "         3.13003956e-10,  3.54404306e-09,  7.64684427e-10],\n",
       "       [-1.58215613e-09,  2.94500527e-09,  2.93273632e-09, ...,\n",
       "         2.02499217e-09,  3.50433313e-09,  4.86502727e-09],\n",
       "       [ 3.78067344e-09,  2.73224510e-09,  5.88280504e-09, ...,\n",
       "         1.21471755e-09,  3.60976485e-09,  5.02842937e-09]])"
      ]
     },
     "execution_count": 134,
     "metadata": {},
     "output_type": "execute_result"
    }
   ],
   "source": [
    "gW1 - gW2"
   ]
  },
  {
   "cell_type": "code",
   "execution_count": 135,
   "metadata": {},
   "outputs": [
    {
     "data": {
      "text/plain": [
       "array([[ 1.35419637e-09, -3.48179846e-10,  6.62428307e-11, ...,\n",
       "         3.13003956e-10, -8.67061978e-12, -1.01167241e-09],\n",
       "       [-3.35851297e-09,  1.16864843e-09,  1.15637948e-09, ...,\n",
       "         2.48635335e-10, -4.83805496e-11,  1.31231359e-09],\n",
       "       [ 2.00431660e-09,  9.55888257e-10,  5.53734520e-10, ...,\n",
       "        -5.61639291e-10,  5.70511693e-11, -3.00641151e-10]])"
      ]
     },
     "execution_count": 135,
     "metadata": {},
     "output_type": "execute_result"
    }
   ],
   "source": [
    "gW1 - gW3"
   ]
  },
  {
   "cell_type": "code",
   "execution_count": null,
   "metadata": {},
   "outputs": [],
   "source": []
  }
 ],
 "metadata": {
  "kernelspec": {
   "display_name": "Python 3",
   "language": "python",
   "name": "python3"
  },
  "language_info": {
   "codemirror_mode": {
    "name": "ipython",
    "version": 3
   },
   "file_extension": ".py",
   "mimetype": "text/x-python",
   "name": "python",
   "nbconvert_exporter": "python",
   "pygments_lexer": "ipython3",
   "version": "3.7.1"
  }
 },
 "nbformat": 4,
 "nbformat_minor": 2
}
